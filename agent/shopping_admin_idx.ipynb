{
 "cells": [
  {
   "cell_type": "code",
   "execution_count": 2,
   "id": "e379e40c",
   "metadata": {},
   "outputs": [
    {
     "name": "stdout",
     "output_type": "stream",
     "text": [
      "244,496,458,94,770,184,551,2,344,470\n"
     ]
    }
   ],
   "source": [
    "import os\n",
    "import json\n",
    "import random\n",
    "\n",
    "# Directory containing config files\n",
    "config_dir = \"config_files\"\n",
    "\n",
    "# List to store task numbers where only 'shopping_admin' is present in 'sites'\n",
    "shopping_admin_only_tasks = []\n",
    "\n",
    "# Iterate through all .json files in the config_dir\n",
    "for filename in os.listdir(config_dir):\n",
    "    if filename.endswith(\".json\"):\n",
    "        filepath = os.path.join(config_dir, filename)\n",
    "        try:\n",
    "            with open(filepath, \"r\") as f:\n",
    "                data = json.load(f)\n",
    "            # If the file is a list, skip cleanly for test.json and test.raw.json\n",
    "            if isinstance(data, list):\n",
    "                if filename in (\"test.json\", \"test.raw.json\"):\n",
    "                    continue  # skip these two files quietly\n",
    "                else:\n",
    "                    raise Exception(\"'list' object has no attribute 'get'\")\n",
    "            sites = data.get(\"sites\", [])\n",
    "            # Check if sites contains only 'shopping_admin'\n",
    "            if isinstance(sites, list) and len(sites) == 1 and sites[0] == \"shopping_admin\":\n",
    "                # Extract the task number from filename (e.g., \"123.json\" -> 123)\n",
    "                task_num = os.path.splitext(filename)[0]\n",
    "                shopping_admin_only_tasks.append(task_num)\n",
    "        except Exception as e:\n",
    "            # Suppress error messages for test.json and test.raw.json with the specific error\n",
    "            if filename in (\"test.json\", \"test.raw.json\") and \"'list' object has no attribute 'get'\" in str(e):\n",
    "                continue\n",
    "            print(f\"Error reading {filename}: {e}\")\n",
    "\n",
    "# Ask user for n, or set a default value\n",
    "n = 10  # You can change this or prompt the user for input\n",
    "\n",
    "if len(shopping_admin_only_tasks) == 0:\n",
    "    print(\"No tasks found with only 'shopping_admin' in sites.\")\n",
    "else:\n",
    "    n = min(n, len(shopping_admin_only_tasks))\n",
    "    sampled = random.sample(shopping_admin_only_tasks, n)\n",
    "    # Print as comma-separated values\n",
    "    print(\",\".join(str(x) for x in sampled))\n"
   ]
  },
  {
   "cell_type": "code",
   "execution_count": null,
   "id": "3e77662f",
   "metadata": {},
   "outputs": [],
   "source": []
  }
 ],
 "metadata": {
  "kernelspec": {
   "display_name": "webarena-env",
   "language": "python",
   "name": "python3"
  },
  "language_info": {
   "codemirror_mode": {
    "name": "ipython",
    "version": 3
   },
   "file_extension": ".py",
   "mimetype": "text/x-python",
   "name": "python",
   "nbconvert_exporter": "python",
   "pygments_lexer": "ipython3",
   "version": "3.10.18"
  }
 },
 "nbformat": 4,
 "nbformat_minor": 5
}
