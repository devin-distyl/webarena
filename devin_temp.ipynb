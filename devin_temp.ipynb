{
 "cells": [
  {
   "cell_type": "code",
   "execution_count": 10,
   "id": "cfd65842",
   "metadata": {},
   "outputs": [
    {
     "data": {
      "text/plain": [
       "True"
      ]
     },
     "execution_count": 10,
     "metadata": {},
     "output_type": "execute_result"
    }
   ],
   "source": [
    "import json\n",
    "\n",
    "def check_config(filename: str, type: str):\n",
    "    with open(f'config_files/{filename}', 'r') as f:\n",
    "        config = json.load(f)\n",
    "\n",
    "    if type in config['sites']: \n",
    "        return True # site is in the config\n",
    "    else:\n",
    "        return False\n",
    "\n",
    "check_config('114.json', 'shopping_admin')"
   ]
  },
  {
   "cell_type": "code",
   "execution_count": 13,
   "id": "05461502",
   "metadata": {},
   "outputs": [
    {
     "name": "stdout",
     "output_type": "stream",
     "text": [
      "Error loading test.raw.json\n",
      "Error loading test.json\n",
      "Error loading examples\n",
      "[115, 545, 457, 292, 768, 504, 695, 197, 713, 77, 210, 705, 247, 494, 549, 119, 41, 375, 288, 772, 699, 676, 461, 94, 123, 6, 709, 498, 499, 708, 95, 122, 460, 698, 677, 289, 773, 374, 548, 495, 246, 211, 704, 712, 196, 694, 505, 769, 456, 790, 114, 544, 774, 109, 488, 0, 471, 113, 543, 778, 781, 502, 200, 345, 129, 216, 703, 187, 492, 538, 186, 493, 539, 217, 702, 128, 201, 344, 503, 780, 779, 112, 542, 759, 470, 1, 348, 489, 108, 775, 11, 473, 131, 2, 127, 760, 776, 12, 490, 185, 243, 65, 701, 214, 347, 202, 486, 193, 107, 500, 453, 111, 541, 110, 540, 782, 501, 487, 346, 203, 700, 215, 64, 491, 184, 13, 777, 464, 130, 3, 472, 496, 183, 245, 63, 707, 212, 711, 204, 195, 551, 678, 697, 290, 455, 547, 4, 208, 79, 121, 199, 463, 770, 459, 14, 43, 42, 458, 15, 771, 198, 462, 78, 120, 209, 5, 423, 474, 680, 116, 546, 454, 291, 157, 679, 696, 550, 194, 710, 706, 213, 62, 244, 497]\n"
     ]
    }
   ],
   "source": [
    "shopping_admin = []\n",
    "\n",
    "import os\n",
    "import json\n",
    "\n",
    "for filename in os.listdir('config_files'):\n",
    "    try:\n",
    "        if check_config(filename, 'shopping_admin'):\n",
    "            shopping_admin.append(int(filename.replace('.json', '')))\n",
    "    except:\n",
    "        print(f'Error loading {filename}')\n",
    "\n",
    "print(shopping_admin)\n"
   ]
  },
  {
   "cell_type": "code",
   "execution_count": 18,
   "id": "91bc3496",
   "metadata": {},
   "outputs": [
    {
     "name": "stdout",
     "output_type": "stream",
     "text": [
      "[0, 1, 2, 3, 4, 5, 6, 11, 12, 13, 14, 15, 41, 42, 43, 62, 63, 64, 65, 77, 78, 79, 94, 95, 107, 108, 109, 110, 111, 112, 113, 114, 115, 116, 119, 120, 121, 122, 123, 127, 128, 129, 130, 131, 157, 183, 184, 185, 186, 187, 193, 194, 195, 196, 197, 198, 199, 200, 201, 202, 203, 204, 208, 209, 210, 211, 212, 213, 214, 215, 216, 217, 243, 244, 245, 246, 247, 288, 289, 290, 291, 292, 344, 345, 346, 347, 348, 374, 375, 423, 453, 454, 455, 456, 457, 458, 459, 460, 461, 462, 463, 464, 470, 471, 472, 473, 474, 486, 487, 488, 489, 490, 491, 492, 493, 494, 495, 496, 497, 498, 499, 500, 501, 502, 503, 504, 505, 538, 539, 540, 541, 542, 543, 544, 545, 546, 547, 548, 549, 550, 551, 676, 677, 678, 679, 680, 694, 695, 696, 697, 698, 699, 700, 701, 702, 703, 704, 705, 706, 707, 708, 709, 710, 711, 712, 713, 759, 760, 768, 769, 770, 771, 772, 773, 774, 775, 776, 777, 778, 779, 780, 781, 782, 790]\n"
     ]
    }
   ],
   "source": [
    "print(sorted(shopping_admin))"
   ]
  },
  {
   "cell_type": "code",
   "execution_count": 24,
   "id": "d05e1606",
   "metadata": {},
   "outputs": [
    {
     "name": "stdout",
     "output_type": "stream",
     "text": [
      "{'success_rate': 0.0, 'avg_score': 0.0, 'avg_time_per_task': 22.103190358566202, 'successful_tasks': 0, 'total_tasks': 184}\n"
     ]
    }
   ],
   "source": [
    "import json\n",
    "\n",
    "with open('/Users/devin/local_webarena/parallel_demo_google_gemini_2_5_pro_20250730_180910.json', 'r') as f:\n",
    "    parallel_results = json.load(f)\n",
    "\n",
    "print(parallel_results['summary'])"
   ]
  },
  {
   "cell_type": "code",
   "execution_count": null,
   "id": "73a9c8f2",
   "metadata": {},
   "outputs": [],
   "source": []
  }
 ],
 "metadata": {
  "kernelspec": {
   "display_name": "webarena-env",
   "language": "python",
   "name": "python3"
  },
  "language_info": {
   "codemirror_mode": {
    "name": "ipython",
    "version": 3
   },
   "file_extension": ".py",
   "mimetype": "text/x-python",
   "name": "python",
   "nbconvert_exporter": "python",
   "pygments_lexer": "ipython3",
   "version": "3.10.18"
  }
 },
 "nbformat": 4,
 "nbformat_minor": 5
}
