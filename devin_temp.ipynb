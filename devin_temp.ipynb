{
 "cells": [
  {
   "cell_type": "code",
   "execution_count": 10,
   "id": "cfd65842",
   "metadata": {},
   "outputs": [
    {
     "data": {
      "text/plain": [
       "True"
      ]
     },
     "execution_count": 10,
     "metadata": {},
     "output_type": "execute_result"
    }
   ],
   "source": [
    "import json\n",
    "\n",
    "def check_config(filename: str, type: str):\n",
    "    with open(f'config_files/{filename}', 'r') as f:\n",
    "        config = json.load(f)\n",
    "\n",
    "    if type in config['sites']: \n",
    "        return True # site is in the config\n",
    "    else:\n",
    "        return False\n",
    "\n",
    "check_config('114.json', 'shopping_admin')"
   ]
  },
  {
   "cell_type": "code",
   "execution_count": 13,
   "id": "05461502",
   "metadata": {},
   "outputs": [
    {
     "name": "stdout",
     "output_type": "stream",
     "text": [
      "Error loading test.raw.json\n",
      "Error loading test.json\n",
      "Error loading examples\n",
      "[115, 545, 457, 292, 768, 504, 695, 197, 713, 77, 210, 705, 247, 494, 549, 119, 41, 375, 288, 772, 699, 676, 461, 94, 123, 6, 709, 498, 499, 708, 95, 122, 460, 698, 677, 289, 773, 374, 548, 495, 246, 211, 704, 712, 196, 694, 505, 769, 456, 790, 114, 544, 774, 109, 488, 0, 471, 113, 543, 778, 781, 502, 200, 345, 129, 216, 703, 187, 492, 538, 186, 493, 539, 217, 702, 128, 201, 344, 503, 780, 779, 112, 542, 759, 470, 1, 348, 489, 108, 775, 11, 473, 131, 2, 127, 760, 776, 12, 490, 185, 243, 65, 701, 214, 347, 202, 486, 193, 107, 500, 453, 111, 541, 110, 540, 782, 501, 487, 346, 203, 700, 215, 64, 491, 184, 13, 777, 464, 130, 3, 472, 496, 183, 245, 63, 707, 212, 711, 204, 195, 551, 678, 697, 290, 455, 547, 4, 208, 79, 121, 199, 463, 770, 459, 14, 43, 42, 458, 15, 771, 198, 462, 78, 120, 209, 5, 423, 474, 680, 116, 546, 454, 291, 157, 679, 696, 550, 194, 710, 706, 213, 62, 244, 497]\n"
     ]
    }
   ],
   "source": [
    "shopping_admin = []\n",
    "\n",
    "import os\n",
    "import json\n",
    "\n",
    "for filename in os.listdir('config_files'):\n",
    "    try:\n",
    "        if check_config(filename, 'shopping_admin'):\n",
    "            shopping_admin.append(int(filename.replace('.json', '')))\n",
    "    except:\n",
    "        print(f'Error loading {filename}')\n",
    "\n",
    "print(shopping_admin)\n"
   ]
  },
  {
   "cell_type": "code",
   "execution_count": 16,
   "id": "91bc3496",
   "metadata": {},
   "outputs": [
    {
     "name": "stdout",
     "output_type": "stream",
     "text": [
      "[0, 1, 2, 3, 4, 5, 6, 11, 12, 13, 14, 15, 41, 42, 43, 62, 63, 64, 65, 77]\n"
     ]
    }
   ],
   "source": [
    "print(sorted(shopping_admin)[:20])"
   ]
  },
  {
   "cell_type": "code",
   "execution_count": null,
   "id": "d05e1606",
   "metadata": {},
   "outputs": [],
   "source": []
  }
 ],
 "metadata": {
  "kernelspec": {
   "display_name": "webarena-env",
   "language": "python",
   "name": "python3"
  },
  "language_info": {
   "codemirror_mode": {
    "name": "ipython",
    "version": 3
   },
   "file_extension": ".py",
   "mimetype": "text/x-python",
   "name": "python",
   "nbconvert_exporter": "python",
   "pygments_lexer": "ipython3",
   "version": "3.10.18"
  }
 },
 "nbformat": 4,
 "nbformat_minor": 5
}
